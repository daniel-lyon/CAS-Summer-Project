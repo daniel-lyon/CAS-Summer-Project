{
 "cells": [
  {
   "cell_type": "markdown",
   "metadata": {},
   "source": [
    "Aim: is for this notebook to plot a spectra with some sliding vertical lines to allow you to visualise the redshift of a file!\n",
    "\n",
    "Jonah Gannon March 2020 - Swinburne PhD student\n",
    "\n",
    "Works on Ubuntu 18.04 LTS\n",
    "\n",
    "Only applicable to the local universe due to 1+z approximation for redshifting of lines"
   ]
  },
  {
   "cell_type": "code",
   "execution_count": 14,
   "metadata": {},
   "outputs": [],
   "source": [
    "from __future__ import print_function\n",
    "from ipywidgets import interact, interactive, fixed, interact_manual\n",
    "import ipywidgets as widgets\n",
    "import matplotlib.pyplot as plt, random\n",
    "from astropy.io import fits\n",
    "import numpy as np\n",
    "import scipy.ndimage as ndi\n",
    "\n",
    "###################### DEFINE THE FILE TO READ IN ###########################################\n",
    "science_file = '/home/daniel/Documents/Swinburne/ultra-diffuse-galaxies/results_GC/NGC_247/5P/obj1/mean_NCS_smooth3.fits'\n",
    "\n",
    "#############################################################################################\n",
    "\n",
    "spectra = fits.open(science_file)[0].data\n",
    "header = fits.open(science_file)[0].header\n",
    "wavelength = np.linspace(header['CRVAL1'], header['CRVAL1']+header['CDELT1'] * (spectra.shape[0]-1), spectra.shape[0])\n",
    "\n",
    "plt.rcParams.update({'font.size': 18})\n",
    "plt.rcParams.update({'axes.linewidth': 3})\n",
    "plt.rcParams.update({'xtick.major.width':3})\n",
    "plt.rcParams.update({'ytick.major.width':3})\n",
    "\n",
    "plt.rcParams.update({'xtick.minor.width':3})\n",
    "plt.rcParams.update({'ytick.minor.width':3})\n",
    "\n",
    "plt.rcParams.update({'xtick.minor.size':8})\n",
    "plt.rcParams.update({'ytick.minor.size':8})\n",
    "\n",
    "plt.rcParams.update({'xtick.major.size':10})\n",
    "plt.rcParams.update({'ytick.major.size':10})"
   ]
  },
  {
   "cell_type": "code",
   "execution_count": 15,
   "metadata": {},
   "outputs": [],
   "source": [
    "def spectra_redshifter(z, smooth = False, xlim = (min(wavelength), max(wavelength)),ylim = (min(spectra), max(spectra))):\n",
    "    fig = plt.figure(1, figsize = (18,8))\n",
    "    ax = plt.subplot(111)\n",
    "    \n",
    "    if smooth == True:\n",
    "        ax.plot(wavelength, ndi.gaussian_filter1d(spectra, sigma = 1/header['CDELT1']/2.354), 'k-', lw=2, drawstyle='steps-mid')\n",
    "    else:\n",
    "        ax.plot(wavelength,spectra, 'k-', lw=2, drawstyle='steps-mid')\n",
    "    \n",
    "    ax.set_ylabel(\"Relative Flux\")\n",
    "    ax.set_xlabel('Wavelength [$\\AA$]')\n",
    "    ax.set_xlim(xlim)\n",
    "    ax.set_ylim(ylim)\n",
    "    \n",
    "    # hydrogen emission lines\n",
    "    ax.axvline(6564.61 * (1+z), 0, 1, color='blue', alpha = 0.5) # halpha\n",
    "    ax.axvline(4861.34 * (1+z), 0, 1, color='blue', alpha = 0.5) # hbeta\n",
    "    ax.axvline(4341.68 * (1+z), 0, 1, color='blue', alpha = 0.5) # hgamma\n",
    "    ax.axvline(4102.89 * (1+z), 0, 1, color='blue', alpha = 0.5) # hdelta\n",
    "\n",
    "    # oxygen emission lines\n",
    "    ax.axvline(5008.24 * (1+z), 0, 1, color='green', alpha = 0.5) # o[III]\n",
    "    ax.axvline(4960.295 * (1+z), 0, 1, color='green', alpha = 0.5) # o[III]\n",
    "    ax.axvline(4932.603 * (1+z), 0, 1, color='green', alpha = 0.5) # o[III]\n",
    "    ax.axvline(3729.875 * (1+z), 0, 1, color='green', alpha = 0.5) # o[II]\n",
    "    ax.axvline(3727.092 * (1+z), 0, 1, color='green', alpha = 0.5) # o[II]\n",
    "    ax.axvline(6302.046 * (1+z), 0, 1, color='green', alpha = 0.5) # o[I]\n",
    "    ax.axvline(6365.536 * (1+z), 0, 1, color='green', alpha = 0.5) # o[I]\n",
    "    ax.axvline(1406 * (1+z), 0, 1, color='green', alpha = 0.5) # o[IV]\n",
    "    ax.axvline(1665.85 * (1+z), 0, 1, color='green', alpha = 0.5) # o[III]\n",
    "    ax.axvline(1033.82 * (1+z), 0, 1, color='green', alpha = 0.5) # o[VI] - AGN\n",
    "\n",
    "    # helium emission lines\n",
    "    # ax.axvline(3889 * (1+z), 0, 1, color='orange', alpha = 0.5) # heI\n",
    "    # ax.axvline(5875.6 * (1+z), 0, 1, color='orange', alpha = 0.5) # heI\n",
    "    # ax.axvline(1640.4 * (1+z), 0, 1, color='orange', alpha = 0.5) # heII\n",
    "    # ax.axvline(4686 * (1+z), 0, 1, color='orange', alpha = 0.5) # heII\n",
    "    # ax.axvline(5411 * (1+z), 0, 1, color='orange', alpha = 0.5) # heII\n",
    "\n",
    "    # carbon emission lines\n",
    "    ax.axvline(1908.734 * (1+z), 0, 1, color='purple', alpha = 0.5) # cIII\n",
    "    ax.axvline(2326.0 * (1+z), 0, 1, color='purple', alpha = 0.5) # cII\n",
    "    ax.axvline(1335.31 * (1+z), 0, 1, color='purple', alpha = 0.5) # cII\n",
    "    ax.axvline(1549.48 * (1+z), 0, 1, color='purple', alpha = 0.5) # cIV\n",
    "\n",
    "    # Neon emission lines\n",
    "    ax.axvline(3426.85 * (1+z), 0, 1, color='cyan', alpha = 0.5) # neVI\n",
    "    ax.axvline(3346.79 * (1+z), 0, 1, color='cyan', alpha = 0.5) # neV\n",
    "    ax.axvline(4725 * (1+z), 0, 1, color='cyan', alpha = 0.5) # neIV\n",
    "    ax.axvline(3868.7 * (1+z), 0, 1, color='cyan', alpha = 0.5) # neIII  \n",
    "    ax.axvline(2439.5 * (1+z), 0, 1, color='cyan', alpha = 0.5) # neIV\n",
    "\n",
    "    # Magnesium emission lines\n",
    "    ax.axvline(2799 * (1+z), 0, 1, color='red', alpha = 0.5) # mgII\n",
    "\n",
    "    # # Silicon emission lines\n",
    "    # ax.axvline(1397.61 * (1+z), 0, 1, color='yellow', alpha = 0.5) # siIV\n",
    "    # ax.axvline(1533.4318 * (1+z), 0, 1, color='yellow', alpha = 0.5) # siII\n",
    "\n",
    "    # Aluminium emission lines\n",
    "    ax.axvline(1857.4 * (1+z), 0, 1, color='magenta', alpha = 0.5) # alIII\n",
    "\n",
    "    # Lyman emission lines\n",
    "    ax.axvline(1215.24 * (1+z), 0, 1, color='hotpink', alpha = 0.5) # Lyman alpha\n",
    "\n",
    "    # Nitrogen emission lines\n",
    "    ax.axvline(6585.27 * (1+z), 0, 1, color='brown', alpha = 0.5) # nII\n",
    "    ax.axvline(6549.86 * (1+z), 0, 1, color='brown', alpha = 0.5) # nII\n",
    "    ax.axvline(6529.03 * (1+z), 0, 1, color='brown', alpha = 0.5) # nI\n",
    "    ax.axvline(1240.81 * (1+z), 0, 1, color='brown', alpha = 0.5) # nV\n",
    "    ax.axvline(1486 * (1+z), 0, 1, color='brown', alpha = 0.5) # nIV - AGN\n",
    "    ax.axvline(1750 * (1+z), 0, 1, color='brown', alpha = 0.5) # nIII - AGN\n",
    "    \n",
    "    \n",
    "    \n",
    "    #mgb triplet\n",
    "    ax.axvline(5167.3 * (1+z), 0, 1, color='purple', alpha = 0.5, ls='--')\n",
    "    ax.axvline(5172.7 * (1+z), 0, 1, color='purple', alpha = 0.5, ls='--')\n",
    "    ax.axvline(5183.6 * (1+z), 0, 1, color='purple', alpha = 0.5, ls='--')\n",
    "    \n",
    "    #Fe lines? \n",
    "    # ax.axvline(4957.6 * (1+z), 0, 1, color='red', alpha = 0.5, ls='--')\n",
    "    # ax.axvline(5015 * (1+z), 0, 1, color='red', alpha = 0.5, ls='--')\n",
    "    ax.axvline(5270 * (1+z), 0, 1, color='red', alpha = 0.5, ls='--')\n",
    "    ax.axvline(5355 * (1+z), 0, 1, color='red', alpha = 0.5, ls='--')    \n",
    "    \n",
    "    return()"
   ]
  },
  {
   "cell_type": "code",
   "execution_count": 17,
   "metadata": {},
   "outputs": [
    {
     "data": {
      "application/vnd.jupyter.widget-view+json": {
       "model_id": "316fb80a67834f3c9eda150f99f628ae",
       "version_major": 2,
       "version_minor": 0
      },
      "text/plain": [
       "interactive(children=(FloatSlider(value=0.0, description='z', max=2.0, min=-0.2, readout_format='.4f', step=0.…"
      ]
     },
     "metadata": {},
     "output_type": "display_data"
    },
    {
     "data": {
      "text/plain": [
       "<function __main__.spectra_redshifter(z, smooth=False, xlim=(3635.0, 5620.0), ylim=(0.009065721, 0.7496867))>"
      ]
     },
     "execution_count": 17,
     "metadata": {},
     "output_type": "execute_result"
    }
   ],
   "source": [
    "interact(spectra_redshifter,\n",
    "         z=widgets.FloatSlider(value = 0, min=-0.2, max = 2, step = 0.0001, readout_format = '.4f'),\n",
    "         smooth = widgets.Checkbox(value = False, description = '1 Å smooth?'),\n",
    "         xlim = widgets.FloatRangeSlider(value = (min(wavelength)*0.998, max(wavelength)), min = min(wavelength)*0.998, max = max(wavelength), readout_format='.2f'),\n",
    "         ylim = widgets.FloatRangeSlider(value = (min(spectra)*0.5, max(spectra)*1.1), min = min(spectra)*0.5, max = max(spectra)*1.1), readout_format='.2f')\n",
    "\n",
    "# NGC 247 10P obj1: 0.231? 0.301? 0.9085?"
   ]
  }
 ],
 "metadata": {
  "kernelspec": {
   "display_name": "Python 3",
   "language": "python",
   "name": "python3"
  },
  "language_info": {
   "codemirror_mode": {
    "name": "ipython",
    "version": 3
   },
   "file_extension": ".py",
   "mimetype": "text/x-python",
   "name": "python",
   "nbconvert_exporter": "python",
   "pygments_lexer": "ipython3",
   "version": "3.7.16"
  }
 },
 "nbformat": 4,
 "nbformat_minor": 2
}
